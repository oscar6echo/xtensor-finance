{
 "cells": [
  {
   "cell_type": "markdown",
   "metadata": {},
   "source": [
    "# Stock walk\n",
    "\n",
    "This notebook shows how a Python class can inherit from an interface of an extension module (that is, a class in C++)."
   ]
  },
  {
   "cell_type": "code",
   "execution_count": 1,
   "metadata": {},
   "outputs": [],
   "source": [
    "import xtensor_monte_carlo as xmc\n",
    "import numpy as np"
   ]
  },
  {
   "cell_type": "code",
   "execution_count": 2,
   "metadata": {},
   "outputs": [],
   "source": [
    "# Definition of a constant diffusion model\n",
    "class ConstantDiffusionModel(xmc.diffusion_model):\n",
    "    def __init__(self, drift, vol):\n",
    "        xmc.diffusion_model.__init__(self)\n",
    "        self.drift = drift\n",
    "        self.volatility = vol\n",
    "        \n",
    "    def get_drift(self, time, spot, drift):\n",
    "        drift.fill(self.drift)\n",
    "    \n",
    "    def get_volatility(self, time, spot, vol):\n",
    "        vol.fill(self.volatility)\n"
   ]
  },
  {
   "cell_type": "code",
   "execution_count": 3,
   "metadata": {},
   "outputs": [],
   "source": [
    "drift = 0.0016\n",
    "vol = 0.0888\n",
    "maturity = 1.\n",
    "model = ConstantDiffusionModel(drift, vol)\n",
    "engine = xmc.mc_engine(model)"
   ]
  },
  {
   "cell_type": "code",
   "execution_count": 4,
   "metadata": {},
   "outputs": [],
   "source": [
    "engine.run_simulation(1., maturity, 10)"
   ]
  },
  {
   "cell_type": "code",
   "execution_count": 5,
   "metadata": {},
   "outputs": [],
   "source": [
    "res = engine.get_path()\n",
    "time = np.arange(0, int(maturity * 365) + 1)"
   ]
  },
  {
   "cell_type": "code",
   "execution_count": 8,
   "metadata": {},
   "outputs": [
    {
     "data": {
      "text/plain": [
       "array([[ 1.        ,  1.01354623,  0.84673788, ...,  0.0821647 ,\n",
       "         0.07784085,  0.08308984],\n",
       "       [ 1.        ,  0.77408792,  0.67397237, ...,  0.39822526,\n",
       "         0.47315654,  0.47156829],\n",
       "       [ 1.        ,  0.87209346,  0.85728055, ...,  0.79678409,\n",
       "         0.74798278,  0.92113906],\n",
       "       ..., \n",
       "       [ 1.        ,  1.00650348,  1.21198985, ...,  0.07993812,\n",
       "         0.07627188,  0.07758686],\n",
       "       [ 1.        ,  1.06960676,  1.05806795, ...,  2.80891188,\n",
       "         2.72452432,  2.80136604],\n",
       "       [ 1.        ,  1.09717648,  1.16837369, ...,  0.02163113,\n",
       "         0.02181004,  0.02075804]])"
      ]
     },
     "execution_count": 8,
     "metadata": {},
     "output_type": "execute_result"
    }
   ],
   "source": [
    "res\n",
    "# time"
   ]
  },
  {
   "cell_type": "code",
   "execution_count": null,
   "metadata": {},
   "outputs": [],
   "source": []
  }
 ],
 "metadata": {
  "kernelspec": {
   "display_name": "quantstack",
   "language": "python",
   "name": "quantstack"
  },
  "language_info": {
   "codemirror_mode": {
    "name": "ipython",
    "version": 3
   },
   "file_extension": ".py",
   "mimetype": "text/x-python",
   "name": "python",
   "nbconvert_exporter": "python",
   "pygments_lexer": "ipython3",
   "version": "3.7.1"
  }
 },
 "nbformat": 4,
 "nbformat_minor": 2
}
