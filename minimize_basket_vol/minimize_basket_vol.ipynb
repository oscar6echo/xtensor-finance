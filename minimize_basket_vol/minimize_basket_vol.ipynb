{
 "cells": [
  {
   "cell_type": "code",
   "execution_count": 1,
   "metadata": {},
   "outputs": [],
   "source": [
    "%matplotlib inline\n",
    "\n",
    "import os\n",
    "import numpy as np\n",
    "import pandas as pd"
   ]
  },
  {
   "cell_type": "code",
   "execution_count": 2,
   "metadata": {},
   "outputs": [],
   "source": [
    "def build_normal(loc=0, scale=1.0, size=10, min_=-10.0, max_=10.0, seed=None):\n",
    "    if seed is not None:\n",
    "        np.random.seed(seed)\n",
    "    r = np.random.normal(loc=loc, scale=scale, size=size)\n",
    "    r = np.minimum(np.maximum(min_, r), max_)\n",
    "    return r\n",
    "\n",
    "def ret_from_track(df, li_undl):\n",
    "    return  df[li_undl].pct_change().dropna().values\n",
    "\n",
    "def get_vol(ret, dt):\n",
    "    ylds = 1.0+ret\n",
    "    return np.sqrt(np.mean(np.log(ylds)**2))*np.sqrt(1/dt)\n",
    "    \n",
    "def get_basket_vol(df, li_undl, dt, weight):\n",
    "    ret = ret_from_track(df, li_undl)\n",
    "    wret = weight*ret\n",
    "    wret = wret.sum(axis=1)\n",
    "    return get_vol(wret, dt)\n",
    "\n",
    "def get_corr(df):\n",
    "    li_arr = [df[u].values for u in df.columns]\n",
    "    return np.corrcoef(li_arr)\n"
   ]
  },
  {
   "cell_type": "markdown",
   "metadata": {},
   "source": [
    "## Constant vol tracks"
   ]
  },
  {
   "cell_type": "code",
   "execution_count": 4,
   "metadata": {},
   "outputs": [
    {
     "name": "stdout",
     "output_type": "stream",
     "text": [
      "<class 'pandas.core.frame.DataFrame'>\n",
      "DatetimeIndex: 756 entries, 2018-11-05 to 2021-09-27\n",
      "Freq: B\n",
      "Data columns (total 5 columns):\n",
      "track1    756 non-null float64\n",
      "track2    756 non-null float64\n",
      "track3    756 non-null float64\n",
      "track4    756 non-null float64\n",
      "track5    756 non-null float64\n",
      "dtypes: float64(5)\n",
      "memory usage: 35.4 KB\n"
     ]
    },
    {
     "data": {
      "text/html": [
       "<div>\n",
       "<style scoped>\n",
       "    .dataframe tbody tr th:only-of-type {\n",
       "        vertical-align: middle;\n",
       "    }\n",
       "\n",
       "    .dataframe tbody tr th {\n",
       "        vertical-align: top;\n",
       "    }\n",
       "\n",
       "    .dataframe thead th {\n",
       "        text-align: right;\n",
       "    }\n",
       "</style>\n",
       "<table border=\"1\" class=\"dataframe\">\n",
       "  <thead>\n",
       "    <tr style=\"text-align: right;\">\n",
       "      <th></th>\n",
       "      <th>track1</th>\n",
       "      <th>track2</th>\n",
       "      <th>track3</th>\n",
       "      <th>track4</th>\n",
       "      <th>track5</th>\n",
       "    </tr>\n",
       "  </thead>\n",
       "  <tbody>\n",
       "    <tr>\n",
       "      <th>2018-11-05</th>\n",
       "      <td>1.000000</td>\n",
       "      <td>1.000000</td>\n",
       "      <td>1.000000</td>\n",
       "      <td>1.000000</td>\n",
       "      <td>1.00000</td>\n",
       "    </tr>\n",
       "    <tr>\n",
       "      <th>2018-11-06</th>\n",
       "      <td>0.991086</td>\n",
       "      <td>0.988311</td>\n",
       "      <td>1.034504</td>\n",
       "      <td>1.010148</td>\n",
       "      <td>0.98240</td>\n",
       "    </tr>\n",
       "    <tr>\n",
       "      <th>2018-11-07</th>\n",
       "      <td>0.996116</td>\n",
       "      <td>0.990276</td>\n",
       "      <td>1.047314</td>\n",
       "      <td>0.987196</td>\n",
       "      <td>0.96086</td>\n",
       "    </tr>\n",
       "  </tbody>\n",
       "</table>\n",
       "</div>"
      ],
      "text/plain": [
       "              track1    track2    track3    track4   track5\n",
       "2018-11-05  1.000000  1.000000  1.000000  1.000000  1.00000\n",
       "2018-11-06  0.991086  0.988311  1.034504  1.010148  0.98240\n",
       "2018-11-07  0.996116  0.990276  1.047314  0.987196  0.96086"
      ]
     },
     "metadata": {},
     "output_type": "display_data"
    },
    {
     "data": {
      "text/html": [
       "<div>\n",
       "<style scoped>\n",
       "    .dataframe tbody tr th:only-of-type {\n",
       "        vertical-align: middle;\n",
       "    }\n",
       "\n",
       "    .dataframe tbody tr th {\n",
       "        vertical-align: top;\n",
       "    }\n",
       "\n",
       "    .dataframe thead th {\n",
       "        text-align: right;\n",
       "    }\n",
       "</style>\n",
       "<table border=\"1\" class=\"dataframe\">\n",
       "  <thead>\n",
       "    <tr style=\"text-align: right;\">\n",
       "      <th></th>\n",
       "      <th>track1</th>\n",
       "      <th>track2</th>\n",
       "      <th>track3</th>\n",
       "      <th>track4</th>\n",
       "      <th>track5</th>\n",
       "    </tr>\n",
       "  </thead>\n",
       "  <tbody>\n",
       "    <tr>\n",
       "      <th>2021-09-23</th>\n",
       "      <td>1.125280</td>\n",
       "      <td>1.339740</td>\n",
       "      <td>1.429421</td>\n",
       "      <td>1.009030</td>\n",
       "      <td>1.255059</td>\n",
       "    </tr>\n",
       "    <tr>\n",
       "      <th>2021-09-24</th>\n",
       "      <td>1.150918</td>\n",
       "      <td>1.313934</td>\n",
       "      <td>1.440480</td>\n",
       "      <td>1.008181</td>\n",
       "      <td>1.267824</td>\n",
       "    </tr>\n",
       "    <tr>\n",
       "      <th>2021-09-27</th>\n",
       "      <td>1.195137</td>\n",
       "      <td>1.307515</td>\n",
       "      <td>1.412126</td>\n",
       "      <td>1.013949</td>\n",
       "      <td>1.264965</td>\n",
       "    </tr>\n",
       "  </tbody>\n",
       "</table>\n",
       "</div>"
      ],
      "text/plain": [
       "              track1    track2    track3    track4    track5\n",
       "2021-09-23  1.125280  1.339740  1.429421  1.009030  1.255059\n",
       "2021-09-24  1.150918  1.313934  1.440480  1.008181  1.267824\n",
       "2021-09-27  1.195137  1.307515  1.412126  1.013949  1.264965"
      ]
     },
     "metadata": {},
     "output_type": "display_data"
    },
    {
     "name": "stdout",
     "output_type": "stream",
     "text": [
      "\n",
      "correl matrix\n",
      "[[ 1.          0.59319118 -0.25440052 -0.55600336  0.50238713]\n",
      " [ 0.59319118  1.         -0.1138696  -0.51729025  0.61332553]\n",
      " [-0.25440052 -0.1138696   1.          0.35002566 -0.08647017]\n",
      " [-0.55600336 -0.51729025  0.35002566  1.         -0.29859757]\n",
      " [ 0.50238713  0.61332553 -0.08647017 -0.29859757  1.        ]]\n",
      "\n",
      "realised vols\n",
      "track1 0.254283604953\n",
      "track2 0.245305244007\n",
      "track3 0.247569146385\n",
      "track4 0.253333644353\n",
      "track5 0.247757044234\n"
     ]
    }
   ],
   "source": [
    "np.random.seed(4321)\n",
    "\n",
    "n_path = 5     # nb of monte carlo paths\n",
    "rate = 0.02     # rate 0.01=1%\n",
    "vol = 0.25      # vol 0.25\n",
    "n_bd = 252*3     # nb of bdays for a path\n",
    "dt = 1.0/260    # bday duration in year\n",
    "today = pd.Timestamp.today().date()\n",
    "\n",
    "\n",
    "ret = (rate-vol**2/2)*dt+vol*np.sqrt(dt)*build_normal(size=(n_bd, n_path))\n",
    "# vols = np.array([build_normal(loc=0.25, scale=0.0000000001, size=n_bd, min_=0.01, max_=0.60)]*5)\n",
    "# ret = np.array([[(rate-v**2/2)*dt+v*np.sqrt(dt)*r for v, r in zip(vol, build_normal(size=n_bd))] for vol in vols]).T\n",
    "ret[0, :] = 0\n",
    "ylds = (1.0+ret)\n",
    "tracks = ylds.cumprod(axis=0)\n",
    "\n",
    "dates = pd.date_range(start=today, periods=n_bd, freq='B')\n",
    "dfi = pd.DataFrame(data=tracks, index=dates, columns=['track'+str(1+i) for i in range(n_path)])\n",
    "\n",
    "dfi.info()\n",
    "display(dfi.head(3))\n",
    "display(dfi.tail(3))\n",
    "\n",
    "print('\\ncorrel matrix')\n",
    "print(get_corr(dfi))\n",
    "\n",
    "print('\\nrealised vols')\n",
    "for u in dfi.columns:\n",
    "    print(u, get_basket_vol(dfi, [u], dt, [1]))\n",
    "    "
   ]
  },
  {
   "cell_type": "code",
   "execution_count": null,
   "metadata": {},
   "outputs": [],
   "source": []
  },
  {
   "cell_type": "markdown",
   "metadata": {},
   "source": [
    "## Stochastic vol tracks"
   ]
  },
  {
   "cell_type": "code",
   "execution_count": 5,
   "metadata": {
    "scrolled": false
   },
   "outputs": [
    {
     "name": "stdout",
     "output_type": "stream",
     "text": [
      "<class 'pandas.core.frame.DataFrame'>\n",
      "DatetimeIndex: 756 entries, 2018-11-05 to 2021-09-27\n",
      "Freq: B\n",
      "Data columns (total 5 columns):\n",
      "track1    756 non-null float64\n",
      "track2    756 non-null float64\n",
      "track3    756 non-null float64\n",
      "track4    756 non-null float64\n",
      "track5    756 non-null float64\n",
      "dtypes: float64(5)\n",
      "memory usage: 35.4 KB\n"
     ]
    },
    {
     "data": {
      "text/html": [
       "<div>\n",
       "<style scoped>\n",
       "    .dataframe tbody tr th:only-of-type {\n",
       "        vertical-align: middle;\n",
       "    }\n",
       "\n",
       "    .dataframe tbody tr th {\n",
       "        vertical-align: top;\n",
       "    }\n",
       "\n",
       "    .dataframe thead th {\n",
       "        text-align: right;\n",
       "    }\n",
       "</style>\n",
       "<table border=\"1\" class=\"dataframe\">\n",
       "  <thead>\n",
       "    <tr style=\"text-align: right;\">\n",
       "      <th></th>\n",
       "      <th>track1</th>\n",
       "      <th>track2</th>\n",
       "      <th>track3</th>\n",
       "      <th>track4</th>\n",
       "      <th>track5</th>\n",
       "    </tr>\n",
       "  </thead>\n",
       "  <tbody>\n",
       "    <tr>\n",
       "      <th>2018-11-05</th>\n",
       "      <td>1.000000</td>\n",
       "      <td>1.000000</td>\n",
       "      <td>1.000000</td>\n",
       "      <td>1.000000</td>\n",
       "      <td>1.000000</td>\n",
       "    </tr>\n",
       "    <tr>\n",
       "      <th>2018-11-06</th>\n",
       "      <td>0.994895</td>\n",
       "      <td>0.982716</td>\n",
       "      <td>1.038262</td>\n",
       "      <td>1.001071</td>\n",
       "      <td>0.997844</td>\n",
       "    </tr>\n",
       "    <tr>\n",
       "      <th>2018-11-07</th>\n",
       "      <td>1.001589</td>\n",
       "      <td>0.962658</td>\n",
       "      <td>1.017907</td>\n",
       "      <td>1.005483</td>\n",
       "      <td>0.984785</td>\n",
       "    </tr>\n",
       "  </tbody>\n",
       "</table>\n",
       "</div>"
      ],
      "text/plain": [
       "              track1    track2    track3    track4    track5\n",
       "2018-11-05  1.000000  1.000000  1.000000  1.000000  1.000000\n",
       "2018-11-06  0.994895  0.982716  1.038262  1.001071  0.997844\n",
       "2018-11-07  1.001589  0.962658  1.017907  1.005483  0.984785"
      ]
     },
     "metadata": {},
     "output_type": "display_data"
    },
    {
     "data": {
      "text/html": [
       "<div>\n",
       "<style scoped>\n",
       "    .dataframe tbody tr th:only-of-type {\n",
       "        vertical-align: middle;\n",
       "    }\n",
       "\n",
       "    .dataframe tbody tr th {\n",
       "        vertical-align: top;\n",
       "    }\n",
       "\n",
       "    .dataframe thead th {\n",
       "        text-align: right;\n",
       "    }\n",
       "</style>\n",
       "<table border=\"1\" class=\"dataframe\">\n",
       "  <thead>\n",
       "    <tr style=\"text-align: right;\">\n",
       "      <th></th>\n",
       "      <th>track1</th>\n",
       "      <th>track2</th>\n",
       "      <th>track3</th>\n",
       "      <th>track4</th>\n",
       "      <th>track5</th>\n",
       "    </tr>\n",
       "  </thead>\n",
       "  <tbody>\n",
       "    <tr>\n",
       "      <th>2021-09-23</th>\n",
       "      <td>0.692751</td>\n",
       "      <td>0.532171</td>\n",
       "      <td>1.280789</td>\n",
       "      <td>1.318817</td>\n",
       "      <td>1.433171</td>\n",
       "    </tr>\n",
       "    <tr>\n",
       "      <th>2021-09-24</th>\n",
       "      <td>0.688351</td>\n",
       "      <td>0.532604</td>\n",
       "      <td>1.301374</td>\n",
       "      <td>1.321368</td>\n",
       "      <td>1.431258</td>\n",
       "    </tr>\n",
       "    <tr>\n",
       "      <th>2021-09-27</th>\n",
       "      <td>0.688598</td>\n",
       "      <td>0.534984</td>\n",
       "      <td>1.306199</td>\n",
       "      <td>1.321698</td>\n",
       "      <td>1.440787</td>\n",
       "    </tr>\n",
       "  </tbody>\n",
       "</table>\n",
       "</div>"
      ],
      "text/plain": [
       "              track1    track2    track3    track4    track5\n",
       "2021-09-23  0.692751  0.532171  1.280789  1.318817  1.433171\n",
       "2021-09-24  0.688351  0.532604  1.301374  1.321368  1.431258\n",
       "2021-09-27  0.688598  0.534984  1.306199  1.321698  1.440787"
      ]
     },
     "metadata": {},
     "output_type": "display_data"
    },
    {
     "name": "stdout",
     "output_type": "stream",
     "text": [
      "[[ 0.09473928  0.08579217  0.23475868 ...,  0.11586583  0.17016342\n",
      "   0.1074878 ]\n",
      " [ 0.31599261  0.28656578  0.22750237 ...,  0.27177903  0.2552781\n",
      "   0.28666242]\n",
      " [ 0.25316525  0.36206486  0.38000876 ...,  0.32254386  0.34794979\n",
      "   0.33047979]\n",
      " [ 0.29123801  0.15587963  0.19354063 ...,  0.10409381  0.18374236\n",
      "   0.10277824]\n",
      " [ 0.18907723  0.15430989  0.10807295 ...,  0.12540713  0.19071497\n",
      "   0.07361941]]\n",
      "\n",
      "correl matrix\n",
      "[[ 1.          0.7680106  -0.74200364 -0.69140764 -0.77712518]\n",
      " [ 0.7680106   1.         -0.69725634 -0.83575028 -0.8351512 ]\n",
      " [-0.74200364 -0.69725634  1.          0.71224737  0.86697986]\n",
      " [-0.69140764 -0.83575028  0.71224737  1.          0.86059914]\n",
      " [-0.77712518 -0.8351512   0.86697986  0.86059914  1.        ]]\n",
      "\n",
      "avg_vol\n",
      " [ 0.12334785  0.29611947  0.3456347   0.14702073  0.17352326]\n",
      "\n",
      "realised vols\n",
      "track1 0.136068698244\n",
      "track2 0.30408633013\n",
      "track3 0.347489188801\n",
      "track4 0.157385572424\n",
      "track5 0.179710282934\n"
     ]
    }
   ],
   "source": [
    "np.random.seed(4321)\n",
    "\n",
    "n_path = 5     # nb of monte carlo paths\n",
    "rate = 0.02     # rate 0.01=1%\n",
    "n_bd = 252*3     # nb of bdays for a path\n",
    "dt = 1.0/260    # bday duration in year\n",
    "today = pd.Timestamp.today().date()\n",
    "\n",
    "avg_vol = build_normal(loc=0.2, scale=0.1, size=n_path, min_=0.05, max_=0.50)\n",
    "# avg_vol = [0.25 for i in range(len(avg_vol))]\n",
    "vols = np.array([build_normal(loc=v, scale=0.05, size=n_bd, min_=0.01, max_=0.60) for v in avg_vol])\n",
    "ret = np.array([[(rate-v**2/2)*dt+v*np.sqrt(dt)*r for v, r in zip(vol, build_normal(size=n_bd))] for vol in vols]).T\n",
    "ret[0, :] = 0\n",
    "ylds = (1.0+ret)\n",
    "tracks = ylds.cumprod(axis=0)\n",
    "\n",
    "dates = pd.date_range(start=today, periods=n_bd, freq='B')\n",
    "df = pd.DataFrame(data=tracks, index=dates, columns=['track'+str(1+i) for i in range(n_path)])\n",
    "\n",
    "df.info()\n",
    "display(df.head(3))\n",
    "display(df.tail(3))\n",
    "\n",
    "print(vols)\n",
    "\n",
    "print('\\ncorrel matrix')\n",
    "print(get_corr(df))\n",
    "\n",
    "print('\\navg_vol\\n', avg_vol)\n",
    "print('\\nrealised vols')\n",
    "for u in df.columns:\n",
    "    print(u, get_basket_vol(df, [u], dt, [1]))\n",
    "    "
   ]
  },
  {
   "cell_type": "code",
   "execution_count": null,
   "metadata": {},
   "outputs": [],
   "source": []
  },
  {
   "cell_type": "markdown",
   "metadata": {},
   "source": [
    "## Random Basket vol"
   ]
  },
  {
   "cell_type": "code",
   "execution_count": 13,
   "metadata": {},
   "outputs": [],
   "source": [
    "def get_basket_vol_2(ret, weight, dt):\n",
    "    wret = weight*ret\n",
    "    wret = wret.sum(axis=1)\n",
    "    vol = get_vol(wret, dt)\n",
    "    return vol\n",
    "\n",
    "def get_basket_vol_sliding_window(df, undls, dt, weight, period):\n",
    "    arr = df[undls].values\n",
    "    ret = arr[1:]/arr[:-1]-1.0\n",
    "    for start_date in range(len(df)-period):\n",
    "#         print(start_date, end=',')\n",
    "        sub_ret = ret[start_date: start_date+period]\n",
    "        vol = get_basket_vol_2(sub_ret, weight, dt)\n",
    "        li_vol.append(vol)\n",
    "    return li_vol\n"
   ]
  },
  {
   "cell_type": "code",
   "execution_count": 14,
   "metadata": {
    "scrolled": false
   },
   "outputs": [
    {
     "name": "stdout",
     "output_type": "stream",
     "text": [
      "\n",
      "weight [ 0.33333333  0.33333333  0.33333333]\n",
      "\n",
      "undls ['track3' 'track2' 'track1']\n"
     ]
    },
    {
     "data": {
      "text/html": [
       "<div>\n",
       "<style scoped>\n",
       "    .dataframe tbody tr th:only-of-type {\n",
       "        vertical-align: middle;\n",
       "    }\n",
       "\n",
       "    .dataframe tbody tr th {\n",
       "        vertical-align: top;\n",
       "    }\n",
       "\n",
       "    .dataframe thead th {\n",
       "        text-align: right;\n",
       "    }\n",
       "</style>\n",
       "<table border=\"1\" class=\"dataframe\">\n",
       "  <thead>\n",
       "    <tr style=\"text-align: right;\">\n",
       "      <th></th>\n",
       "      <th>track3</th>\n",
       "      <th>track2</th>\n",
       "      <th>track1</th>\n",
       "    </tr>\n",
       "  </thead>\n",
       "  <tbody>\n",
       "    <tr>\n",
       "      <th>2019-10-18</th>\n",
       "      <td>0.991618</td>\n",
       "      <td>0.750484</td>\n",
       "      <td>0.938081</td>\n",
       "    </tr>\n",
       "    <tr>\n",
       "      <th>2019-10-21</th>\n",
       "      <td>1.001786</td>\n",
       "      <td>0.743490</td>\n",
       "      <td>0.932901</td>\n",
       "    </tr>\n",
       "    <tr>\n",
       "      <th>2019-10-22</th>\n",
       "      <td>1.006120</td>\n",
       "      <td>0.726089</td>\n",
       "      <td>0.935671</td>\n",
       "    </tr>\n",
       "  </tbody>\n",
       "</table>\n",
       "</div>"
      ],
      "text/plain": [
       "              track3    track2    track1\n",
       "2019-10-18  0.991618  0.750484  0.938081\n",
       "2019-10-21  1.001786  0.743490  0.932901\n",
       "2019-10-22  1.006120  0.726089  0.935671"
      ]
     },
     "metadata": {},
     "output_type": "display_data"
    },
    {
     "name": "stdout",
     "output_type": "stream",
     "text": [
      "<class 'pandas.core.frame.DataFrame'>\n",
      "DatetimeIndex: 252 entries, 2018-11-05 to 2019-10-22\n",
      "Freq: B\n",
      "Data columns (total 3 columns):\n",
      "track3    252 non-null float64\n",
      "track2    252 non-null float64\n",
      "track1    252 non-null float64\n",
      "dtypes: float64(3)\n",
      "memory usage: 7.9 KB\n"
     ]
    }
   ],
   "source": [
    "n_undl = 3\n",
    "period = 252\n",
    "start_date = 0\n",
    "end_date = start_date+period\n",
    "weight = np.ones(n_undl)*1.0/n_undl\n",
    "\n",
    "print('\\nweight', weight)\n",
    "\n",
    "undls = np.random.choice(df.columns, size=n_undl, replace=False)\n",
    "print('\\nundls', undls)\n",
    "\n",
    "dfs = df[undls].iloc[start_date:end_date]\n",
    "display(dfs.tail(3))\n",
    "dfs.info()\n",
    "\n",
    "# def get_basket_vol_period(df, undls, start_date, end_date):\n",
    "#     dfs = df.iloc[start_date:end_date]\n",
    "#     return get_basket_vol(dfs, undls, dt, weight)\n",
    "\n",
    "li_vol = []\n",
    "\n",
    "vols = get_basket_vol_sliding_window(df, undls, dt, weight, period)\n"
   ]
  },
  {
   "cell_type": "code",
   "execution_count": 15,
   "metadata": {},
   "outputs": [
    {
     "data": {
      "text/plain": [
       "<matplotlib.axes._subplots.AxesSubplot at 0x11f53cb70>"
      ]
     },
     "execution_count": 15,
     "metadata": {},
     "output_type": "execute_result"
    },
    {
     "data": {
      "image/png": "[encoded data removed]",
      "text/plain": [
       "<Figure size 864x216 with 1 Axes>"
      ]
     },
     "metadata": {
      "needs_background": "light"
     },
     "output_type": "display_data"
    }
   ],
   "source": [
    "dfv = pd.DataFrame(vols, columns=['realised vol'])\n",
    "\n",
    "dfv.plot(figsize=(12, 3))"
   ]
  },
  {
   "cell_type": "code",
   "execution_count": null,
   "metadata": {},
   "outputs": [],
   "source": []
  },
  {
   "cell_type": "code",
   "execution_count": null,
   "metadata": {},
   "outputs": [],
   "source": []
  },
  {
   "cell_type": "code",
   "execution_count": null,
   "metadata": {},
   "outputs": [],
   "source": []
  },
  {
   "cell_type": "code",
   "execution_count": null,
   "metadata": {},
   "outputs": [],
   "source": []
  },
  {
   "cell_type": "code",
   "execution_count": null,
   "metadata": {},
   "outputs": [],
   "source": []
  },
  {
   "cell_type": "code",
   "execution_count": null,
   "metadata": {},
   "outputs": [],
   "source": []
  },
  {
   "cell_type": "code",
   "execution_count": null,
   "metadata": {
    "scrolled": false
   },
   "outputs": [],
   "source": [
    "# np.random.seed(1234)\n",
    "# avg_vol = build_normal(loc=0.2, scale=0.1, size=n_path, min_=0.05, max_=0.50)\n",
    "# print('avg_vol\\n', avg_vol, '\\n')\n",
    "# vols = np.array([build_normal(loc=v, scale=0.02, size=n_bd, min_=0.01, max_=0.60) for v in avg_vol])\n",
    "# print('vol\\n', vol, '\\n')\n",
    "\n",
    "# # returns = np.array([(rate-v**2/2)*dt+v*np.sqrt(dt)*build_normal(size=n_bd) for v in vol])\n",
    "\n",
    "# print('v\\n', v, '\\n')\n",
    "\n",
    "# # rnd_normal = build_normal(size=n_bd)\n",
    "# ret = np.array([[(rate-v**2/2)*dt+v*np.sqrt(dt)*r for v, r in zip(vol, \n",
    "#                                                                   (size=n_bd))] for vol in vols])\n",
    "# ret"
   ]
  },
  {
   "cell_type": "code",
   "execution_count": null,
   "metadata": {},
   "outputs": [],
   "source": []
  },
  {
   "cell_type": "code",
   "execution_count": null,
   "metadata": {},
   "outputs": [],
   "source": [
    "# a = dfi['track1']\n",
    "# ret = a.pct_change().dropna().values\n",
    "# yields = 1.0+ret\n",
    "# lret = np.log(yields)\n",
    "# lret_sq = np.log(yields)**2\n",
    "# np.sqrt(np.mean(lret_sq))*np.sqrt(1/dt)"
   ]
  },
  {
   "cell_type": "code",
   "execution_count": null,
   "metadata": {},
   "outputs": [],
   "source": []
  }
 ],
 "metadata": {
  "kernelspec": {
   "display_name": "quantstack",
   "language": "python",
   "name": "quantstack"
  },
  "language_info": {
   "codemirror_mode": {
    "name": "ipython",
    "version": 3
   },
   "file_extension": ".py",
   "mimetype": "text/x-python",
   "name": "python",
   "nbconvert_exporter": "python",
   "pygments_lexer": "ipython3",
   "version": "3.7.1"
  }
 },
 "nbformat": 4,
 "nbformat_minor": 2
}
