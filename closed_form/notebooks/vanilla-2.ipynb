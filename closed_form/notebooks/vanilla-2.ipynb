{
 "cells": [
  {
   "cell_type": "markdown",
   "metadata": {},
   "source": [
    "# Vanilla closed-form with xtensor-python\n",
    "\n",
    "This notebook demonstrates the usage of a python extension module built upon **xtensor-python**. The following packages are required to get it work:\n",
    "- xtl\n",
    "- xtensor\n",
    "- xtensor-python\n",
    "- pybind11\n",
    "- numpy\n",
    "\n",
    "We suggest to insall them with conda: `conda install xtensor-python bqplot ipyvolume -c quantstack -c conda-forge`\n",
    "so the dependencies are handled for you."
   ]
  },
  {
   "cell_type": "code",
   "execution_count": 1,
   "metadata": {},
   "outputs": [],
   "source": [
    "%load_ext autoreload\n",
    "%autoreload 2"
   ]
  },
  {
   "cell_type": "code",
   "execution_count": 2,
   "metadata": {},
   "outputs": [],
   "source": [
    "import math\n",
    "import numpy as np\n",
    "import xtensor_closed_forms as xcf\n",
    "from IPython.display import display"
   ]
  },
  {
   "cell_type": "markdown",
   "metadata": {},
   "source": [
    "## 1. Simple european call\n",
    "\n",
    "In this section, we plot the price of a european call depending on the spot, and show how the volatility, maturity and rates\n",
    "can influence this price curve. We can pass numpy arrays to the functions defined in `xtensor_closed_forms` even if these are not python functions. Besides, `xtensor-python` operates on numpy arrays **in place**, so the arrays are never copied."
   ]
  },
  {
   "cell_type": "code",
   "execution_count": 3,
   "metadata": {},
   "outputs": [],
   "source": [
    "iscall = True\n",
    "vol = 0.2\n",
    "mat = 1.\n",
    "rate = 0.04\n",
    "strike = 1.\n",
    "spot = np.arange(0.1, 1.9, 0.01)"
   ]
  },
  {
   "cell_type": "code",
   "execution_count": 7,
   "metadata": {},
   "outputs": [],
   "source": [
    "# Documentation works as if it was a python function\n",
    "# ?xcf.vanilla_discounted_payoff"
   ]
  },
  {
   "cell_type": "code",
   "execution_count": 8,
   "metadata": {},
   "outputs": [],
   "source": [
    "price = xcf.bs_discounted_price(spot, strike, vol, mat, rate, iscall)\n",
    "discounted_payoff = xcf.vanilla_discounted_payoff(spot, strike, mat, rate, iscall)"
   ]
  },
  {
   "cell_type": "code",
   "execution_count": 9,
   "metadata": {},
   "outputs": [
    {
     "data": {
      "text/plain": [
       "array([ 0.        ,  0.        ,  0.        ,  0.        ,  0.        ,\n",
       "        0.        ,  0.        ,  0.        ,  0.        ,  0.        ,\n",
       "        0.        ,  0.        ,  0.        ,  0.        ,  0.        ,\n",
       "        0.        ,  0.        ,  0.        ,  0.        ,  0.        ,\n",
       "        0.        ,  0.        ,  0.        ,  0.        ,  0.        ,\n",
       "        0.        ,  0.        ,  0.        ,  0.        ,  0.        ,\n",
       "        0.        ,  0.        ,  0.        ,  0.        ,  0.        ,\n",
       "        0.        ,  0.        ,  0.        ,  0.        ,  0.        ,\n",
       "        0.        ,  0.        ,  0.        ,  0.        ,  0.        ,\n",
       "        0.        ,  0.        ,  0.        ,  0.        ,  0.        ,\n",
       "        0.        ,  0.        ,  0.        ,  0.        ,  0.        ,\n",
       "        0.        ,  0.        ,  0.        ,  0.        ,  0.        ,\n",
       "        0.        ,  0.        ,  0.        ,  0.        ,  0.        ,\n",
       "        0.        ,  0.        ,  0.        ,  0.        ,  0.        ,\n",
       "        0.        ,  0.        ,  0.        ,  0.        ,  0.        ,\n",
       "        0.        ,  0.        ,  0.        ,  0.        ,  0.        ,\n",
       "        0.        ,  0.        ,  0.        ,  0.        ,  0.        ,\n",
       "        0.        ,  0.        ,  0.00921056,  0.01921056,  0.02921056,\n",
       "        0.03921056,  0.04921056,  0.05921056,  0.06921056,  0.07921056,\n",
       "        0.08921056,  0.09921056,  0.10921056,  0.11921056,  0.12921056,\n",
       "        0.13921056,  0.14921056,  0.15921056,  0.16921056,  0.17921056,\n",
       "        0.18921056,  0.19921056,  0.20921056,  0.21921056,  0.22921056,\n",
       "        0.23921056,  0.24921056,  0.25921056,  0.26921056,  0.27921056,\n",
       "        0.28921056,  0.29921056,  0.30921056,  0.31921056,  0.32921056,\n",
       "        0.33921056,  0.34921056,  0.35921056,  0.36921056,  0.37921056,\n",
       "        0.38921056,  0.39921056,  0.40921056,  0.41921056,  0.42921056,\n",
       "        0.43921056,  0.44921056,  0.45921056,  0.46921056,  0.47921056,\n",
       "        0.48921056,  0.49921056,  0.50921056,  0.51921056,  0.52921056,\n",
       "        0.53921056,  0.54921056,  0.55921056,  0.56921056,  0.57921056,\n",
       "        0.58921056,  0.59921056,  0.60921056,  0.61921056,  0.62921056,\n",
       "        0.63921056,  0.64921056,  0.65921056,  0.66921056,  0.67921056,\n",
       "        0.68921056,  0.69921056,  0.70921056,  0.71921056,  0.72921056,\n",
       "        0.73921056,  0.74921056,  0.75921056,  0.76921056,  0.77921056,\n",
       "        0.78921056,  0.79921056,  0.80921056,  0.81921056,  0.82921056,\n",
       "        0.83921056,  0.84921056,  0.85921056,  0.86921056,  0.87921056,\n",
       "        0.88921056,  0.89921056,  0.90921056,  0.91921056,  0.92921056])"
      ]
     },
     "execution_count": 9,
     "metadata": {},
     "output_type": "execute_result"
    }
   ],
   "source": [
    "discounted_payoff"
   ]
  },
  {
   "cell_type": "markdown",
   "metadata": {},
   "source": [
    "## 2. Surface plot for many calls\n",
    "\n",
    "In this section, we demonstrate the braodcasting feature available in `xtensor-python`. To do so, we compute the price matrix of european calls for different spots and volatilities."
   ]
  },
  {
   "cell_type": "code",
   "execution_count": 10,
   "metadata": {},
   "outputs": [],
   "source": [
    "#This avoids having the 3D plot updated when changing the sliders of the 2D plot (and vice-versa)\n",
    "iscall_2d = True\n",
    "mat_2d = 1.\n",
    "rate_2d = 0.04\n",
    "strike_2d = 1.\n",
    "spot_2d = np.arange(0.1, 1.5, 0.01)"
   ]
  },
  {
   "cell_type": "code",
   "execution_count": 11,
   "metadata": {},
   "outputs": [],
   "source": [
    "vol_lin = np.arange(0.05, 0.35, 0.01)\n",
    "vol_2d = vol_lin[:, np.newaxis]\n",
    "price_2d = xcf.bs_discounted_price(spot_2d, strike_2d, vol_2d, mat_2d, rate_2d, iscall_2d)"
   ]
  },
  {
   "cell_type": "code",
   "execution_count": 12,
   "metadata": {},
   "outputs": [
    {
     "data": {
      "text/plain": [
       "array([[  0.00000000e+000,   0.00000000e+000,   0.00000000e+000, ...,\n",
       "          5.09210561e-001,   5.19210561e-001,   5.29210561e-001],\n",
       "       [  0.00000000e+000,   2.83573619e-289,   6.30805011e-267, ...,\n",
       "          5.09210561e-001,   5.19210561e-001,   5.29210561e-001],\n",
       "       [  1.12589416e-232,   6.60779196e-214,   1.78991086e-197, ...,\n",
       "          5.09210561e-001,   5.19210561e-001,   5.29210561e-001],\n",
       "       ..., \n",
       "       [  1.02991592e-014,   9.20809944e-014,   6.31386842e-013, ...,\n",
       "          5.25341769e-001,   5.34673078e-001,   5.44031324e-001],\n",
       "       [  5.00118296e-014,   3.95264633e-013,   2.43287519e-012, ...,\n",
       "          5.27329309e-001,   5.36613246e-001,   5.45924742e-001],\n",
       "       [  2.12704105e-013,   1.50204163e-012,   8.37693435e-012, ...,\n",
       "          5.29417761e-001,   5.38655222e-001,   5.47920769e-001]])"
      ]
     },
     "execution_count": 12,
     "metadata": {},
     "output_type": "execute_result"
    }
   ],
   "source": [
    "price_2d"
   ]
  },
  {
   "cell_type": "code",
   "execution_count": null,
   "metadata": {},
   "outputs": [],
   "source": []
  }
 ],
 "metadata": {
  "kernelspec": {
   "display_name": "quantstack",
   "language": "python",
   "name": "quantstack"
  },
  "language_info": {
   "codemirror_mode": {
    "name": "ipython",
    "version": 3
   },
   "file_extension": ".py",
   "mimetype": "text/x-python",
   "name": "python",
   "nbconvert_exporter": "python",
   "pygments_lexer": "ipython3",
   "version": "3.7.0"
  }
 },
 "nbformat": 4,
 "nbformat_minor": 2
}
